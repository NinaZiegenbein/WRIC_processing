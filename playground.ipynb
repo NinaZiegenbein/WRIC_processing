{
 "cells": [
  {
   "cell_type": "code",
   "execution_count": null,
   "metadata": {},
   "outputs": [],
   "source": [
    "import pandas as pd\n",
    "import re\n",
    "import numpy as np\n",
    "from config import config\n",
    "from datetime import datetime\n",
    "import requests\n",
    "import csv\n",
    "import WRIC_preprocessing as wric\n",
    "pd.set_option('display.max_columns', None)\n",
    "pd.set_option('display.max_rows', 5)\n"
   ]
  },
  {
   "cell_type": "markdown",
   "metadata": {},
   "source": [
    "### Example Usage"
   ]
  },
  {
   "cell_type": "code",
   "execution_count": null,
   "metadata": {},
   "outputs": [],
   "source": [
    "R1_metadata, R2_metadata, df_room1, df_room2 = wric.preprocess_WRIC_file(\"C:\\Documents\\WRIC_example_data\\Results_1m_copy_anonymised.txt\", code=\"id+comment\", path_to_save=None) #path_to_save=\"C:\\Documents\\WRIC_example_data\"\n",
    "display(df_room1)\n",
    "\n",
    "# do not include discrepancy check standard and explain that without calibration gases no realistic values (only do for actual person values)\n",
    "#check_discrepancies(df_room2, threshold=0.05)"
   ]
  },
  {
   "cell_type": "code",
   "execution_count": null,
   "metadata": {},
   "outputs": [],
   "source": [
    "preprocess_WRIC_files('id.csv', 'upload')"
   ]
  },
  {
   "cell_type": "code",
   "execution_count": null,
   "metadata": {},
   "outputs": [],
   "source": [
    "import WRIC_preprocessing as wric"
   ]
  },
  {
   "cell_type": "markdown",
   "metadata": {},
   "source": [
    "# Playground for Note Integration"
   ]
  },
  {
   "cell_type": "code",
   "execution_count": null,
   "metadata": {},
   "outputs": [],
   "source": [
    "R1_metadata, R2_metadata, df_room1, df_room2 = wric.preprocess_WRIC_file(\"C:/Documents/WRIC_example_data/Results_1m_copy_anonymised.txt\") \n"
   ]
  },
  {
   "cell_type": "code",
   "execution_count": null,
   "metadata": {},
   "outputs": [],
   "source": [
    "# read the note file into a pandas Dataframe\n",
    "notes_path = \"C:/Documents/WRIC_example_data/Main_note_yyyymmddxxxx.txt\"\n",
    "notes_content = wric.open_file(notes_path)\n",
    "\n",
    "lines = [line.strip().split('\\t') for line in notes_content[2:]]\n",
    "\n",
    "df_note = pd.DataFrame(lines[2:], columns=lines[0])\n",
    "df_note = df_note.dropna()\n",
    "\n",
    "# combine to datetime\n",
    "df_note['datetime'] = pd.to_datetime(df_note['Date'] + ' ' + df_note['Time'], format='%m/%d/%y %H:%M:%S')\n",
    "df_note = df_note.drop(columns=['Date', 'Time'])"
   ]
  },
  {
   "cell_type": "code",
   "execution_count": null,
   "metadata": {},
   "outputs": [],
   "source": [
    "display(df_note.head())"
   ]
  },
  {
   "cell_type": "code",
   "execution_count": null,
   "metadata": {},
   "outputs": [],
   "source": [
    "def save_dict(dict_protocol, participant, datetime, value):\n",
    "    if participant is not None:\n",
    "        dict_protocol[participant][datetime] = value\n",
    "    else:\n",
    "        dict_protocol[1][datetime] = value\n",
    "        dict_protocol[2][datetime] = value\n",
    "    return dict_protocol"
   ]
  },
  {
   "cell_type": "code",
   "execution_count": null,
   "metadata": {},
   "outputs": [],
   "source": [
    "def update_protocol(df, protocol_list):\n",
    "    \"\"\"HELPER FUNCTION _ DO NOT USE! Update the protocol column in the given DataFrame based on the provided protocol list.\"\"\"\n",
    "    current_protocol = 0\n",
    "    current_index = 0\n",
    "\n",
    "    for index, row in df.iterrows():\n",
    "        # While there are more timestamps and the current row's datetime is greater than or equal to the timestamp\n",
    "        while (current_index < len(protocol_list) and \n",
    "               row['datetime'] >= protocol_list[current_index][0]):\n",
    "            current_protocol = protocol_list[current_index][1]  # Update current protocol\n",
    "            current_index += 1  # Move to the next timestamp\n",
    "\n",
    "        df.at[index, 'protocol'] = current_protocol\n",
    "        \n",
    "    return df"
   ]
  },
  {
   "cell_type": "code",
   "execution_count": null,
   "metadata": {},
   "outputs": [],
   "source": [
    "\n",
    "\n",
    "keywords_dict = {\n",
    "    'sleeping': ([\"seng\", \"sleeping\", \"bed\", \"sove\", \"soeve\"], 1),\n",
    "    'eating': ([[\"start\", \"begin\", \"began\"],[\"maaltid\", \"måltid\", \"eat\", \"meal\", \"food\", \"spis\", \"maal\", \"måd\", \"mad\", \"frokost\", \"morgenmad\", \"middag\", \"snack\", \"aftensmad\"]], 2),\n",
    "    'stop_sleeping' : ([\"vaagen\", \"vågen\", \"vaekket\", \"væk\", \"awake\", \"wake\", \"woken\"], 0),\n",
    "    'stop_anything': ([\"faerdig\", \"færdig\", \"stop\", \"end\", \"finished\", \"slut\"], 0),\n",
    "    'activity': ([[\"start\", \"begin\", \"began\"], [\"step\", \"exercise\", \"physicial activity\", \"active\", \"motion\", \"aktiv\"]], 3),\n",
    "    'ree_start': ([[\"start\", \"begin\", \"began\"], [\"REE\"]], 4),\n",
    "    # TODO: Cut based on start and end extracted from notes\n",
    "    'end': ([\"ud\", \"exit\", \"out\"], 0), #maybe as added safety check, check that it is the last/first note for that participant\n",
    "    'start': ([\"ind i kammer\", \"enter\", \"ind\"], 0)\n",
    "}\n",
    "\n",
    "time_pattern = r\"([0-9]|0[0-9]|1[0-9]|2[0-3]):[0-5]\\d\"\n",
    "dict_protocol = {1:{}, 2:{}}\n",
    "for index, row in df_note.iterrows():\n",
    "    participant = None\n",
    "    if row[\"Comment\"].startswith(\"1\"):\n",
    "        participant = 1\n",
    "    elif row[\"Comment\"].startswith(\"2\"):\n",
    "        participant = 2\n",
    "    for category, (keywords, value) in keywords_dict.items():\n",
    "        if isinstance(keywords[0], list):\n",
    "            # Multi-group check: at least one keyword from each sublist must match\n",
    "            if all(any(word.lower() in row['Comment'].lower() for word in group) for group in keywords):\n",
    "                print(\"multi match\", row[\"Comment\"])\n",
    "                # check if a different timestamp is written in the message and save the value there \n",
    "                # only checks first time stamp and only in format 6:45 or 06:45\n",
    "                match = re.search(time_pattern, row['Comment'])\n",
    "                if match:\n",
    "                    time_str = match[0]\n",
    "                    date_str = row['datetime'].date()\n",
    "                    new_datetime = pd.Timestamp(datetime.combine(date_str, datetime.strptime(time_str, \"%H:%M\").time()))\n",
    "                    dict_protocol = save_dict(dict_protocol, participant, new_datetime, value)\n",
    "                else:\n",
    "                    dict_protocol = save_dict(dict_protocol, participant, row[\"datetime\"], value)\n",
    "        else:\n",
    "            # Single-group check: only one keyword needs to match\n",
    "            if any(word.lower() in row['Comment'].lower() for word in keywords):\n",
    "                match = re.search(time_pattern, row['Comment'])\n",
    "                if match:\n",
    "                    time_str = match[0]\n",
    "                    date_str = row['datetime'].date()\n",
    "                    new_datetime = pd.Timestamp(datetime.combine(date_str, datetime.strptime(time_str, \"%H:%M\").time()))\n",
    "                    dict_protocol = save_dict(dict_protocol, participant, new_datetime, value)\n",
    "                else:\n",
    "                    dict_protocol = save_dict(dict_protocol, participant, row[\"datetime\"], value)\n",
    "            \n",
    "protocol_list_1 = sorted(dict_protocol[1].items())\n",
    "protocol_list_2 = sorted(dict_protocol[2].items())\n",
    "\n",
    "update_protocol(df_room1, protocol_list_1)\n",
    "update_protocol(df_room2, protocol_list_2)\n",
    "\n",
    "print(protocol_list_1)\n",
    "print(protocol_list_2)\n",
    "            "
   ]
  },
  {
   "cell_type": "code",
   "execution_count": null,
   "metadata": {},
   "outputs": [],
   "source": [
    "display(df_room1)\n",
    "df_room1.to_csv(\"./tmp/df_room1.csv\")"
   ]
  },
  {
   "cell_type": "code",
   "execution_count": null,
   "metadata": {},
   "outputs": [],
   "source": [
    "a = \"bæsrefg 9:33 dlsfgkbnwee 10:54 wkregf\"\n",
    "b = \"kljbfdavg wergoi\"\n",
    "pattern = r\"\\b([01]?\\d|2[0-3]):[0-5]\\d\\b\"\n",
    "match = re.search(pattern, b)"
   ]
  },
  {
   "cell_type": "code",
   "execution_count": null,
   "metadata": {},
   "outputs": [],
   "source": [
    "print(bool(match))"
   ]
  },
  {
   "cell_type": "code",
   "execution_count": null,
   "metadata": {},
   "outputs": [],
   "source": []
  }
 ],
 "metadata": {
  "kernelspec": {
   "display_name": "Python 3",
   "language": "python",
   "name": "python3"
  },
  "language_info": {
   "codemirror_mode": {
    "name": "ipython",
    "version": 3
   },
   "file_extension": ".py",
   "mimetype": "text/x-python",
   "name": "python",
   "nbconvert_exporter": "python",
   "pygments_lexer": "ipython3",
   "version": "3.12.6"
  }
 },
 "nbformat": 4,
 "nbformat_minor": 2
}
