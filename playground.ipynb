{
 "cells": [
  {
   "cell_type": "code",
   "execution_count": null,
   "metadata": {},
   "outputs": [],
   "source": [
    "import pandas as pd\n",
    "import re\n",
    "import numpy as np\n",
    "from config import config\n",
    "import requests\n",
    "import csv\n",
    "import WRIC_preprocessing as wric\n",
    "pd.set_option('display.max_columns', None)\n",
    "pd.set_option('display.max_rows', 5)\n"
   ]
  },
  {
   "cell_type": "markdown",
   "metadata": {},
   "source": [
    "### Example Usage"
   ]
  },
  {
   "cell_type": "code",
   "execution_count": null,
   "metadata": {},
   "outputs": [],
   "source": [
    "R1_metadata, R2_metadata, df_room1, df_room2 = wric.preprocess_WRIC_file(\"C:\\Documents\\WRIC_example_data\\Results_1m_copy_anonymised.txt\", code=\"id+comment\", path_to_save=None) #path_to_save=\"C:\\Documents\\WRIC_example_data\"\n",
    "display(df_room1)\n",
    "\n",
    "# do not include discrepancy check standard and explain that without calibration gases no realistic values (only do for actual person values)\n",
    "#check_discrepancies(df_room2, threshold=0.05)"
   ]
  },
  {
   "cell_type": "code",
   "execution_count": null,
   "metadata": {},
   "outputs": [],
   "source": [
    "preprocess_WRIC_files('id.csv', 'upload')"
   ]
  },
  {
   "cell_type": "code",
   "execution_count": null,
   "metadata": {},
   "outputs": [],
   "source": [
    "import WRIC_preprocessing as wric"
   ]
  },
  {
   "cell_type": "markdown",
   "metadata": {},
   "source": [
    "# Playground for Note Integration"
   ]
  },
  {
   "cell_type": "code",
   "execution_count": null,
   "metadata": {},
   "outputs": [],
   "source": [
    "R1_metadata, R2_metadata, df_room1, df_room2 = wric.preprocess_WRIC_file(\"C:/Documents/WRIC_example_data/Results_1m_copy_anonymised.txt\") \n"
   ]
  },
  {
   "cell_type": "code",
   "execution_count": null,
   "metadata": {},
   "outputs": [],
   "source": [
    "# read the note file into a pandas Dataframe\n",
    "notes_path = \"C:/Documents/WRIC_example_data/Main_note_yyyymmddxxxx.txt\"\n",
    "notes_content = wric.open_file(notes_path)\n",
    "\n",
    "lines = [line.strip().split('\\t') for line in notes_content[2:]]\n",
    "\n",
    "df_note = pd.DataFrame(lines[2:], columns=lines[0])\n",
    "df_note = df_note.dropna()\n",
    "\n",
    "# combine to datetime\n",
    "df_note['datetime'] = pd.to_datetime(df_note['Date'] + ' ' + df_note['Time'], format='%m/%d/%y %H:%M:%S')\n",
    "df_note = df_note.drop(columns=['Date', 'Time'])"
   ]
  },
  {
   "cell_type": "code",
   "execution_count": null,
   "metadata": {},
   "outputs": [],
   "source": [
    "display(df_note.head())"
   ]
  },
  {
   "cell_type": "code",
   "execution_count": null,
   "metadata": {},
   "outputs": [],
   "source": [
    "start_sleeping = [\"seng\", \"sleeping\", \"bed\", \"sove\"]\n",
    "stop_sleeping = [\"vaagen\", \"vaekket\", \"awake\", \"wake\"]\n",
    "start_ree = [\"start REE\", \"Start REE\"] # or somehow both need to be present start, Start etc and REE, ree...\n",
    "stop_ree = [\"stop REE\"]\n",
    "start_eating = [\"start maaltid\", \"maaltid start\"]\n",
    "stop_eating = [\"faerdig\", \"stop maaltid\"]\n",
    "start_activity = [\"start step\", \"start exercise\"]\n",
    "stop_activity = [\"stop step\"]\n",
    "end = [\"ud\", \"exit\"]\n",
    "start = [\"ind i kammer\"]\n",
    "\n",
    "keywords_dict = {\n",
    "    'sleeping': ([\"seng\", \"sleeping\", \"bed\", \"sove\"], 1),\n",
    "    'eating': ([\"start maaltid\", \"maaltid start\"], 2),\n",
    "    'stop_eating': ([\"faerdig\", \"stop maaltid\"], 0),\n",
    "    'activity': ([\"start step\", \"start exercise\"], 3),\n",
    "    'stop_activity': ([\"stop step\"], 0),\n",
    "    'ree_start': ([\"start REE\", \"Start REE\"], 4),\n",
    "    'ree_stop': ([\"stop REE\"], 0),\n",
    "    'end': ([\"ud\", \"exit\"], 0),\n",
    "    'start': ([\"ind i kammer\"], 0)\n",
    "}\n",
    "\n",
    "dict_protocol = {}\n",
    "for index, row in df_note.iterrows():\n",
    "    for category, (keywords, value) in keywords_dict.items():\n",
    "        if any(word in row['Comment'] for word in keywords):\n",
    "            dict_protocol[row[\"datetime\"]] = value\n",
    "            #print(\"change to\", value, row['datetime'])\n",
    "            \n",
    "protocol_list = sorted((ts, value) for ts, value in dict_protocol.items())\n",
    "print(protocol_list)\n",
    "\n",
    "current_protocol = 0    \n",
    "current_index = 0  \n",
    "\n",
    "for index, row in df_room1.iterrows():\n",
    "    # While there are more timestamps and the current row's datetime is greater than or equal to the timestamp\n",
    "    while (current_index < len(protocol_list) and \n",
    "           row['datetime'] >= protocol_list[current_index][0]):\n",
    "        current_protocol = protocol_list[current_index][1]  # Update current protocol\n",
    "        current_index += 1  # Move to the next timestamp\n",
    "\n",
    "    df_room1.at[index, 'protocol'] = current_protocol\n",
    "            "
   ]
  },
  {
   "cell_type": "code",
   "execution_count": null,
   "metadata": {},
   "outputs": [],
   "source": [
    "display(df_room1)\n",
    "df_room1.to_csv(\"./tmp/df_room1.csv\")"
   ]
  },
  {
   "cell_type": "code",
   "execution_count": null,
   "metadata": {},
   "outputs": [],
   "source": []
  }
 ],
 "metadata": {
  "kernelspec": {
   "display_name": "Python 3",
   "language": "python",
   "name": "python3"
  },
  "language_info": {
   "codemirror_mode": {
    "name": "ipython",
    "version": 3
   },
   "file_extension": ".py",
   "mimetype": "text/x-python",
   "name": "python",
   "nbconvert_exporter": "python",
   "pygments_lexer": "ipython3",
   "version": "3.12.6"
  }
 },
 "nbformat": 4,
 "nbformat_minor": 2
}
