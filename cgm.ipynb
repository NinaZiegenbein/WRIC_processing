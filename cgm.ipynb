{
 "cells": [
  {
   "cell_type": "code",
   "execution_count": null,
   "metadata": {},
   "outputs": [],
   "source": [
    "import pandas as pd\n",
    "import numpy as np\n",
    "import WRIC_preprocessing as wric\n",
    "import os\n",
    "import glob\n",
    "import re\n",
    "import matplotlib.pyplot as plt\n",
    "from collections import defaultdict\n",
    "pd.set_option(\"display.max_rows\", None)"
   ]
  },
  {
   "cell_type": "code",
   "execution_count": null,
   "metadata": {},
   "outputs": [],
   "source": [
    "# Path to all cgm files\n",
    "folder_path = \"D:/Simon_CIRCLE/CGM/\"\n",
    "skip_list = [\"D:/Simon_CIRCLE/CGM/04HH_CGM_v1_treat0.csv\"] # different format for some reason\n",
    "\n",
    "meta_data = []\n",
    "df_dictionary = {}\n",
    "\n",
    "for filepath in glob.glob(folder_path + \"*.csv\"):\n",
    "    print(filepath)\n",
    "    if filepath not in skip_list:\n",
    "        # get visit and treatment variable from file-name\n",
    "        match = re.search(r'_v(\\d+)_treat(\\d+)\\.csv$', filepath)\n",
    "        if match:\n",
    "            visit = int(match.group(1))\n",
    "            treat = int(match.group(2))\n",
    "\n",
    "        # read in csv file\n",
    "        df = pd.read_csv(filepath, index_col=\"Index\")\n",
    "\n",
    "        # save meta data\n",
    "        id = df.loc[1, \"Patient Info\"]\n",
    "        dob = df.loc[df['Event Type'] == 'DateOfBirth', 'Patient Info'].values[0]\n",
    "        meta_data.append({\"ID\" : id, \"DateOfBirth\" : dob, \"visit\" : visit, \"treat\" : treat})\n",
    "\n",
    "        # drop unnecessary rows and columns and save in dict\n",
    "        df = df[df['Timestamp (YYYY-MM-DDThh:mm:ss)'].notna()]\n",
    "        df.reset_index(inplace=True)\n",
    "        df = df.drop(columns=[\"Index\",\"Event Type\",\"Event Subtype\",\"Patient Info\",\"Device Info\",\"Source Device ID\", \"Insulin Value (u)\",\"Carb Value (grams)\",\"Duration (hh:mm:ss)\",\"Glucose Rate of Change (mmol/L/min)\",\"Transmitter Time (Long Integer)\",\"Transmitter ID\"])\n",
    "        df.rename(columns={'Timestamp (YYYY-MM-DDThh:mm:ss)' : \"datetime\", \"Glucose Value (mmol/L)\": \"glucose\"}, inplace=True)\n",
    "        df[\"datetime\"] = pd.to_datetime(df[\"datetime\"])\n",
    "        # Replace \"low\" with None (for visualization) - make sure this is know!\n",
    "        df[\"glucose\"] = np.where(df[\"glucose\"] == \"Low\", None, df[\"glucose\"]).astype(float)\n",
    "        df = wric.add_relative_time(df)\n",
    "        df_dictionary[f'{id}_t{str(treat)}'] = df\n",
    "        \n",
    " \n",
    "# convert meta-data to df   \n",
    "df_meta = pd.DataFrame(meta_data)"
   ]
  },
  {
   "cell_type": "code",
   "execution_count": null,
   "metadata": {},
   "outputs": [],
   "source": [
    "fig, ax = plt.subplots(figsize=(12, 6))\n",
    "for person_id, df in df_dictionary.items():\n",
    "    print(person_id)\n",
    "    ax.plot(df['relative_time[min]'], df['glucose'], label=person_id)\n",
    "        \n",
    "#plt.xticks(rotation=45)\n",
    "ax.set_xlabel(\"Relative Time (min)\")\n",
    "ax.set_ylabel(\"Glucose (mmol/L)\")\n",
    "ax.set_ylim(2, 16)\n",
    "ax.set_title(\"Glucose Values Over Time for all participants (n=10) missing v2 of 04HH\")\n",
    "\n",
    "# Add a legend to distinguish each person\n",
    "ax.legend(title=\"Person ID\")\n",
    "\n",
    "plt.tight_layout()\n",
    "plt.show()"
   ]
  },
  {
   "cell_type": "code",
   "execution_count": null,
   "metadata": {},
   "outputs": [],
   "source": [
    "groups = defaultdict(list)\n",
    "\n",
    "# Group identifiers based on the first four characters\n",
    "for person_id in df_dictionary.keys():\n",
    "    group_key = person_id[:4]  # Get the first four characters\n",
    "    groups[group_key].append(person_id)\n",
    "    \n",
    "fig, axs = plt.subplots(nrows=4, ncols=3, figsize=(20, 6 * 4))\n",
    "\n",
    "# Flatten the axs array if needed (for easy indexing)\n",
    "axs = axs.flatten()\n",
    "\n",
    "# Create subplots for each group\n",
    "for ax, (group_id, person_ids) in zip(axs, groups.items()):\n",
    "    # Plot each person in the group\n",
    "    for person_id in person_ids:\n",
    "        df = df_dictionary[person_id]  # Access the DataFrame for the person\n",
    "        ax.plot(df['relative_time[min]'], df['glucose'], label=person_id.split('_')[1])  # Use v1 or v2 as label\n",
    "\n",
    "    ax.set_xlabel(\"Relative Time in min\")\n",
    "    ax.set_ylabel(\"Glucose\")\n",
    "    ax.set_ylim(2, 16)\n",
    "    ax.set_title(f\"Glucose Values Over Time for Participant {group_id}\")\n",
    "\n",
    "    # Add a legend to distinguish each version\n",
    "    ax.legend(title=\"Treatment\")\n",
    "\n",
    "# Adjust layout to prevent overlapping\n",
    "plt.tight_layout()\n",
    "plt.show()"
   ]
  },
  {
   "cell_type": "code",
   "execution_count": null,
   "metadata": {},
   "outputs": [],
   "source": [
    "# TODO: Make the relative time start at the same time of day for each person - or map from the back so longer would be fine? And then mark days and WRIC \n",
    "# Check skipping time stamps - maybe scatter plot not line?"
   ]
  },
  {
   "cell_type": "code",
   "execution_count": null,
   "metadata": {},
   "outputs": [],
   "source": []
  }
 ],
 "metadata": {
  "kernelspec": {
   "display_name": "Python 3",
   "language": "python",
   "name": "python3"
  },
  "language_info": {
   "codemirror_mode": {
    "name": "ipython",
    "version": 3
   },
   "file_extension": ".py",
   "mimetype": "text/x-python",
   "name": "python",
   "nbconvert_exporter": "python",
   "pygments_lexer": "ipython3",
   "version": "3.12.6"
  }
 },
 "nbformat": 4,
 "nbformat_minor": 2
}
