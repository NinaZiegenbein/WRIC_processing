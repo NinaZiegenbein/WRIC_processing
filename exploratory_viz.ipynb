{
 "cells": [
  {
   "cell_type": "code",
   "execution_count": null,
   "metadata": {},
   "outputs": [],
   "source": [
    "import WRIC_preprocessing as wric\n",
    "import pandas as pd\n",
    "import numpy as np\n",
    "import matplotlib.pyplot as plt\n",
    "import os"
   ]
  },
  {
   "cell_type": "code",
   "execution_count": null,
   "metadata": {},
   "outputs": [],
   "source": [
    "# Path to the folder containing the files\n",
    "folder_path = \"/media/nina/SUNSHINE/Simon_CIRCLE/WRIC/processed\"\n",
    "# Step 1: Get all files ending with \"_combined.csv\"\n",
    "csv_files = [file for file in os.listdir(folder_path) if file.endswith(\"_data.csv\")]\n",
    "\n",
    "protocol_colors_labels = {\n",
    "    0: {\"color\": \"white\", \"label\": \"Normal\"},\n",
    "    1: {\"color\": \"blue\", \"label\": \"Sleep\"},\n",
    "    2: {\"color\": \"orange\", \"label\": \"Eating\"},\n",
    "    3: {\"color\": \"yellow\", \"label\": \"Exercise\"},\n",
    "    4: {\"color\": \"green\", \"label\": \"RER\"},\n",
    "}\n",
    "\n",
    "# Step 2: Read files into DataFrames\n",
    "dataframes = []  # List to store all DataFrames\n",
    "\n",
    "for file in csv_files:\n",
    "    # Read the file\n",
    "    file_path = os.path.join(folder_path, file)\n",
    "    df = pd.read_csv(file_path)\n",
    "    dataframes.append(df)\n",
    "\n",
    "    # Step 3: Plot energy expenditure (\"ee\") over time\n",
    "    plt.figure(figsize=(12, 6))\n",
    "    plt.plot(df[\"relative_time[min]\"], df[\"Energy Expenditure (kJ/min)\"], label=\"Energy Expenditure\", color=\"blue\")\n",
    "    #plt.plot(df[\"relative_time[min]\"], df[\"RER\"], label=\"Energy Expenditure\", color=\"blue\")\n",
    "\n",
    "    # Highlight background based on \"protocol\" values\n",
    "    for protocol, group in df.groupby(\"protocol\"):\n",
    "        protocol_info = protocol_colors_labels.get(protocol, None)\n",
    "        if protocol_info and protocol != 0:  # Skip coloring for protocol 0\n",
    "            start_time = group[\"relative_time[min]\"].min()\n",
    "            end_time = group[\"relative_time[min]\"].max()\n",
    "            plt.axvspan(start_time, end_time, color=protocol_info[\"color\"], alpha=0.3, label=protocol_info[\"label\"])\n",
    "\n",
    "    # Add labels, legend, and title\n",
    "    plt.xlabel(\"Relative Time (min)\")\n",
    "    plt.ylabel(\"Energy Expenditure (kJ/min)\")\n",
    "    plt.title(f\"Energy Expenditure Over Time for {file}\")\n",
    "    \n",
    "    handles, labels = plt.gca().get_legend_handles_labels()\n",
    "    by_label = dict(zip(labels, handles))\n",
    "    plt.legend(by_label.values(), by_label.keys(), loc=\"upper right\")\n",
    "\n",
    "    plt.grid(True)\n",
    "    plt.tight_layout()\n",
    "\n",
    "    # Show the plot\n",
    "    plt.show()"
   ]
  },
  {
   "cell_type": "code",
   "execution_count": null,
   "metadata": {},
   "outputs": [],
   "source": [
    "a = zip(dataframes[0][\"datetime\"].tolist(), dataframes[0][\"protocol\"].tolist())\n",
    "for d, p in a:\n",
    "    print(d,p)"
   ]
  },
  {
   "cell_type": "code",
   "execution_count": null,
   "metadata": {},
   "outputs": [],
   "source": [
    "# Path to the folder containing the files\n",
    "folder_path = \"/media/nina/SUNSHINE/Simon_CIRCLE/WRIC/processed\"\n",
    "# Step 1: Get all files ending with \"_combined.csv\"\n",
    "csv_files = [file for file in os.listdir(folder_path) if file.endswith(\"_data.csv\")]\n",
    "\n",
    "protocol_colors_labels = {\n",
    "    0: {\"color\": \"white\", \"label\": \"Normal\"},\n",
    "    1: {\"color\": \"blue\", \"label\": \"Sleep\"},\n",
    "    2: {\"color\": \"orange\", \"label\": \"Eating\"},\n",
    "    3: {\"color\": \"yellow\", \"label\": \"Exercise\"},\n",
    "    4: {\"color\": \"green\", \"label\": \"RER\"},\n",
    "}\n",
    "\n",
    "# Step 2: Read files into DataFrames\n",
    "dataframes = []  # List to store all DataFrames\n",
    "\n",
    "for file in csv_files:\n",
    "    # Read the file\n",
    "    file_path = os.path.join(folder_path, file)\n",
    "    df = pd.read_csv(file_path)\n",
    "    dataframes.append(df)\n",
    "\n",
    "    # Step 3: Plot energy expenditure (\"ee\") over time\n",
    "    plt.figure(figsize=(12, 6))\n",
    "    plt.plot(df[\"relative_time[min]\"], df[\"RER\"], label=\"RER\", color=\"blue\")\n",
    "\n",
    "    # Highlight background based on \"protocol\" values\n",
    "    for protocol, group in df.groupby(\"protocol\"):\n",
    "        protocol_info = protocol_colors_labels.get(protocol, None)\n",
    "        if protocol_info and protocol != 0:  # Skip coloring for protocol 0\n",
    "            start_time = group[\"relative_time[min]\"].min()\n",
    "            end_time = group[\"relative_time[min]\"].max()\n",
    "            plt.axvspan(start_time, end_time, color=protocol_info[\"color\"], alpha=0.3, label=protocol_info[\"label\"])\n",
    "\n",
    "    # Add labels, legend, and title\n",
    "    plt.xlabel(\"Relative Time (min)\")\n",
    "    plt.ylabel(\"RER\")\n",
    "    plt.title(f\"RER Over Time for {file}\")\n",
    "    \n",
    "    handles, labels = plt.gca().get_legend_handles_labels()\n",
    "    by_label = dict(zip(labels, handles))\n",
    "    plt.legend(by_label.values(), by_label.keys(), loc=\"upper right\")\n",
    "\n",
    "    plt.ylim(0.5, 1.2)\n",
    "    plt.grid(True)\n",
    "    plt.tight_layout()\n",
    "\n",
    "    # Show the plot\n",
    "    plt.show()"
   ]
  },
  {
   "cell_type": "code",
   "execution_count": null,
   "metadata": {},
   "outputs": [],
   "source": [
    "example = dataframes[18]\n",
    "plt.plot(example[\"relative_time[min]\"], example[\"RER\"], label=\"RER\", color=\"blue\")\n",
    "plt.plot()"
   ]
  },
  {
   "cell_type": "code",
   "execution_count": null,
   "metadata": {},
   "outputs": [],
   "source": [
    "signal = np.array(example[\"RER\"])\n",
    "fft_result = np.fft.fft(signal)"
   ]
  },
  {
   "cell_type": "code",
   "execution_count": null,
   "metadata": {},
   "outputs": [],
   "source": [
    "plt.plot(fft_result)"
   ]
  },
  {
   "cell_type": "code",
   "execution_count": null,
   "metadata": {},
   "outputs": [],
   "source": []
  }
 ],
 "metadata": {
  "interpreter": {
   "hash": "916dbcbb3f70747c44a77c7bcd40155683ae19c65e1c03b4aa3499c5328201f1"
  },
  "kernelspec": {
   "display_name": "Python 3.8.10 64-bit",
   "language": "python",
   "name": "python3"
  },
  "language_info": {
   "codemirror_mode": {
    "name": "ipython",
    "version": 3
   },
   "file_extension": ".py",
   "mimetype": "text/x-python",
   "name": "python",
   "nbconvert_exporter": "python",
   "pygments_lexer": "ipython3",
   "version": "3.8.10"
  }
 },
 "nbformat": 4,
 "nbformat_minor": 2
}
