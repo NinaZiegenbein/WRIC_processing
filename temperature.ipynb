{
 "cells": [
  {
   "cell_type": "code",
   "execution_count": null,
   "metadata": {},
   "outputs": [],
   "source": [
    "import pandas as pd\n",
    "import numpy as np\n",
    "import WRIC_preprocessing as wric\n",
    "import os\n",
    "import glob\n",
    "import re\n",
    "import matplotlib.pyplot as plt\n",
    "from collections import defaultdict\n",
    "pd.set_option(\"display.max_rows\", None)"
   ]
  },
  {
   "cell_type": "code",
   "execution_count": null,
   "metadata": {},
   "outputs": [],
   "source": [
    "# Path to all cgm files\n",
    "filepath = \"D:/Simon_CIRCLE/Temperatur_bodycap_csv.csv\"\n",
    "print(filepath)\n",
    "\n",
    "df = pd.read_csv(filepath, delimiter=\";\")\n"
   ]
  },
  {
   "cell_type": "code",
   "execution_count": null,
   "metadata": {},
   "outputs": [],
   "source": [
    "display(df.head())"
   ]
  },
  {
   "cell_type": "code",
   "execution_count": null,
   "metadata": {},
   "outputs": [],
   "source": [
    "fig, ax = plt.subplots(figsize=(12, 6))\n",
    "excluded_columns = ['Number', 'Hour' 'Minutes', '1_red']\n",
    "filtered_df = df.drop(columns=excluded_columns)\n",
    "\n",
    "x_data = df['Minutes']\n",
    "# Iterate over columns in the filtered DataFrame\n",
    "for column in filtered_df.items():\n",
    "    ax.plot(x_data, column) #label=person_id\n",
    "        \n",
    "#plt.xticks(rotation=45)\n",
    "ax.set_xlabel(\"Relative Time (min)\")\n",
    "ax.set_ylabel(\"Glucose (mmol/L)\")\n",
    "ax.set_ylim(2, 16)\n",
    "ax.set_title(\"Glucose Values Over Time for all participants (n=10) missing v2 of 04HH\")\n",
    "\n",
    "# Add a legend to distinguish each person\n",
    "ax.legend(title=\"Person ID\")\n",
    "\n",
    "plt.tight_layout()\n",
    "plt.show()"
   ]
  },
  {
   "cell_type": "code",
   "execution_count": null,
   "metadata": {},
   "outputs": [],
   "source": [
    "for column in df.items():\n",
    "    print(column)"
   ]
  },
  {
   "cell_type": "code",
   "execution_count": null,
   "metadata": {},
   "outputs": [],
   "source": []
  }
 ],
 "metadata": {
  "kernelspec": {
   "display_name": "Python 3",
   "language": "python",
   "name": "python3"
  },
  "language_info": {
   "codemirror_mode": {
    "name": "ipython",
    "version": 3
   },
   "file_extension": ".py",
   "mimetype": "text/x-python",
   "name": "python",
   "nbconvert_exporter": "python",
   "pygments_lexer": "ipython3",
   "version": "3.12.6"
  }
 },
 "nbformat": 4,
 "nbformat_minor": 2
}
