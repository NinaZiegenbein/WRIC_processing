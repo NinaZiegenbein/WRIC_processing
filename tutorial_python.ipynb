{
 "cells": [
  {
   "cell_type": "markdown",
   "metadata": {},
   "source": [
    "# Example Usage in Python\n",
    "\n",
    "This file explains how to import and use the WRIC_preprocessing function in Python. First we need to import the python files to be able to use the functions."
   ]
  },
  {
   "cell_type": "code",
   "execution_count": null,
   "metadata": {},
   "outputs": [],
   "source": [
    "import WRIC_preprocessing as wric"
   ]
  },
  {
   "cell_type": "code",
   "execution_count": null,
   "metadata": {},
   "outputs": [],
   "source": [
    "# Quickstart\n",
    "import WRIC_preprocessing as wric\n",
    "R1_metadata, R2_metadata, df_room1, df_room2 = wric.preprocess_WRIC_file(\"./example_data/data.txt\") "
   ]
  },
  {
   "cell_type": "markdown",
   "metadata": {},
   "source": [
    "Each function in the file has a detailed docstring explaining what the function does and which parameter it needs. The functions are modular, so you can flexibly use them how you need them. But to use them \"out-of-the-box\" here are examples for the most common use cases:\n",
    "1) You have a WRIC (txt) file locally and want to preprocess it. That means reading the metadata at the top of the file, extracting the data from the txt format into a csv format, performing a descrepancy check between s1 and s2 measurements, combining the two measurements, splitting by room1 and room2 and saving the data as a csv. Some of these actions are optional, so you can choose based on the parameters you provide.\n",
    "2) You have a csv-file of record-id's from RedCap and want to process all of the files for all records.\n",
    "\n",
    "_Note: The data.txt in the example_data folder is random data in the same form and is just to highlight the data pipeline, but should not be used for actual analysis!_\n",
    "\n",
    "You can see and example of 1) below:"
   ]
  },
  {
   "cell_type": "code",
   "execution_count": null,
   "metadata": {},
   "outputs": [],
   "source": [
    "R1_metadata, R2_metadata, df_room1, df_room2 = wric.preprocess_WRIC_file(\"./example_data/data.txt\") \n",
    "display(df_room1)"
   ]
  },
  {
   "cell_type": "markdown",
   "metadata": {},
   "source": [
    "The above code specifies only the necessary parameter \"filepath\" and assumes the default values for all other parameters. But you can specify these parameters for yourself, as can be seen below. As these are the default options the two function calls return exactly the same results."
   ]
  },
  {
   "cell_type": "code",
   "execution_count": null,
   "metadata": {},
   "outputs": [],
   "source": [
    "R1_metadata, R2_metadata, df_room1, df_room2 = wric.preprocess_WRIC_file(\"./example_data/data.txt\", code = \"id\", manual = None, save_csv = True, path_to_save = None, combine = True, method = \"mean\") \n",
    "display(df_room1)"
   ]
  },
  {
   "cell_type": "markdown",
   "metadata": {},
   "source": [
    "The **second** option is to preprocess multiple files and access them on the RedCap Server using a csv-file containing the record IDs. \n",
    "\n",
    "To access the data on RedCap you first need to set up a config.py file. You can use the config_example.py as a template and input your personal API-Token to the repository with the data (see 'Get your API Token for RedCap' below). Make sure that if the config.py file stays locally and without anyone else having access to it. When handling sensitive data it might make sense to delete the token from the file after using it.\n",
    "\n",
    "Besides setting up the config file, you need to specify the field-name of your RedCap instrument where the raw WRIC-data is located (in the example below the field is named \"WRIC_raw\") and you need to provide the record IDs of the records that you want to access. They simply need to be written in a column with no further words or comments and need to match the record IDs on RedCap.\n",
    "\n",
    "_Please note that the code below will not work for you until you 1) set up the config file, 2) create a csv with record ids and change the file path, 3) write the correct field name of your project._"
   ]
  },
  {
   "cell_type": "code",
   "execution_count": null,
   "metadata": {},
   "outputs": [],
   "source": [
    "R1_metadata, R2_metadata, df_room1, df_room2 =  wric.preprocess_WRIC_files(\"./example_data/record_ids.csv\", \"WRIC_raw\", code = \"id\", manual = None, save_csv = True, path_to_save = None, combine = True, method = \"mean\")"
   ]
  },
  {
   "cell_type": "markdown",
   "metadata": {},
   "source": [
    "### Get your API Token for RedCap\n",
    "- Go to your project and click on **API** in the menu on the left hand side\n",
    "  - If you can not find the API option in the menu, you might have to adjust the rights to your project by clicking on **User Rights** and adjusting your API rights (or the creator of the project, if that is not you)\n",
    "- You have to request the generation of an API Token (in my experience takes only a couple hours)\n",
    "- At the same place you can find your Token after your request has been approved and the token generated"
   ]
  },
  {
   "cell_type": "markdown",
   "metadata": {},
   "source": [
    "### Uploading Data after processing\n",
    "Short explanation of the RedCap Upload function"
   ]
  }
 ],
 "metadata": {
  "kernelspec": {
   "display_name": "Python 3",
   "language": "python",
   "name": "python3"
  },
  "language_info": {
   "codemirror_mode": {
    "name": "ipython",
    "version": 3
   },
   "file_extension": ".py",
   "mimetype": "text/x-python",
   "name": "python",
   "nbconvert_exporter": "python",
   "pygments_lexer": "ipython3",
   "version": "3.12.6"
  }
 },
 "nbformat": 4,
 "nbformat_minor": 2
}
